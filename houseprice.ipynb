{
  "nbformat": 4,
  "nbformat_minor": 0,
  "metadata": {
    "kernelspec": {
      "display_name": "Python 3",
      "language": "python",
      "name": "python3"
    },
    "language_info": {
      "codemirror_mode": {
        "name": "ipython",
        "version": 3
      },
      "file_extension": ".py",
      "mimetype": "text/x-python",
      "name": "python",
      "nbconvert_exporter": "python",
      "pygments_lexer": "ipython3",
      "version": "3.8.3"
    },
    "papermill": {
      "duration": 12.838375,
      "end_time": "2020-12-27T06:18:26.350562",
      "environment_variables": {},
      "exception": null,
      "input_path": "__notebook__.ipynb",
      "output_path": "__notebook__.ipynb",
      "parameters": {},
      "start_time": "2020-12-27T06:18:13.512187",
      "version": "2.1.0"
    },
    "colab": {
      "name": "houseprice.ipynb",
      "provenance": []
    }
  },
  "cells": [
    {
      "cell_type": "markdown",
      "metadata": {
        "papermill": {
          "duration": 0.032464,
          "end_time": "2020-12-27T06:18:18.545470",
          "exception": false,
          "start_time": "2020-12-27T06:18:18.513006",
          "status": "completed"
        },
        "tags": [],
        "id": "OW6hqqI2pBOF"
      },
      "source": [
        "# **Ames Housing Prices**\n",
        "\n",
        "### **I used following techniques in this notebook**\n",
        "\n",
        "* 1. Loading Data using Pandas\n",
        "* 2. Finding the Data-type of each column\n",
        "* 3. Finding the number of null values in each columns\n",
        "* 4. Finding the columns in each dataset\n",
        "* 5. Dropping some useless column. Also dropping some columns with more NULL values\n",
        "* 6. Finding all columns with Categorical & Numerical values(to be treated seperately later)\n",
        "* 7. Using the StandardScaler library to Standardize the numeric values\n",
        "* 8. Handling Categorical Data using Get_Dummies()\n",
        "* 9.Concatenating the Original Dataset & the One after creating Dummies\n",
        "* 10. Dropping the columns already concatenated after Get_Dummies()\n",
        "* 11. Splitting X & y\n",
        "* 12. Imputing the missing values\n",
        "* 13. Doing the Train_Test_Split\n",
        "* 14. Using Gradient Boosting Regression to fit the Data\n",
        "* 15. Using Grid Search to optimize the parameters\n",
        "* 16. Using the Trained Model to Predict\n"
      ]
    },
    {
      "cell_type": "code",
      "metadata": {
        "_cell_guid": "b1076dfc-b9ad-4769-8c92-a6c4dae69d19",
        "_uuid": "8f2839f25d086af736a60e9eeb907d3b93b6e0e5",
        "execution": {
          "iopub.execute_input": "2020-12-27T06:18:18.618364Z",
          "iopub.status.busy": "2020-12-27T06:18:18.617336Z",
          "iopub.status.idle": "2020-12-27T06:18:18.623233Z",
          "shell.execute_reply": "2020-12-27T06:18:18.624031Z"
        },
        "papermill": {
          "duration": 0.046716,
          "end_time": "2020-12-27T06:18:18.624200",
          "exception": false,
          "start_time": "2020-12-27T06:18:18.577484",
          "status": "completed"
        },
        "tags": [],
        "id": "R44SCq8LpBOI"
      },
      "source": [
        "import numpy as np \n",
        "import pandas as pd "
      ],
      "execution_count": null,
      "outputs": []
    },
    {
      "cell_type": "code",
      "metadata": {
        "_cell_guid": "79c7e3d0-c299-4dcb-8224-4455121ee9b0",
        "_uuid": "d629ff2d2480ee46fbb7e2d37f6b5fab8052498a",
        "execution": {
          "iopub.execute_input": "2020-12-27T06:18:18.693469Z",
          "iopub.status.busy": "2020-12-27T06:18:18.692676Z",
          "iopub.status.idle": "2020-12-27T06:18:19.721026Z",
          "shell.execute_reply": "2020-12-27T06:18:19.720293Z"
        },
        "papermill": {
          "duration": 1.063579,
          "end_time": "2020-12-27T06:18:19.721177",
          "exception": false,
          "start_time": "2020-12-27T06:18:18.657598",
          "status": "completed"
        },
        "tags": [],
        "id": "aPslJgogpBOI"
      },
      "source": [
        "import numpy as np\n",
        "import pandas as pd\n",
        "import matplotlib.pyplot as plt\n",
        "import seaborn as sns"
      ],
      "execution_count": null,
      "outputs": []
    },
    {
      "cell_type": "markdown",
      "metadata": {
        "papermill": {
          "duration": 0.031712,
          "end_time": "2020-12-27T06:18:19.785364",
          "exception": false,
          "start_time": "2020-12-27T06:18:19.753652",
          "status": "completed"
        },
        "tags": [],
        "id": "GpKkoHoPpBOI"
      },
      "source": [
        "### 1. Loading Data with Pandas"
      ]
    },
    {
      "cell_type": "code",
      "metadata": {
        "execution": {
          "iopub.execute_input": "2020-12-27T06:18:19.857618Z",
          "iopub.status.busy": "2020-12-27T06:18:19.856766Z",
          "iopub.status.idle": "2020-12-27T06:18:20.003672Z",
          "shell.execute_reply": "2020-12-27T06:18:20.002448Z"
        },
        "papermill": {
          "duration": 0.186126,
          "end_time": "2020-12-27T06:18:20.003807",
          "exception": false,
          "start_time": "2020-12-27T06:18:19.817681",
          "status": "completed"
        },
        "tags": [],
        "id": "FjYiiXEhpBOJ",
        "outputId": "4b3e6298-e94b-4fce-9ec1-c5a14d3f9091"
      },
      "source": [
        "train=pd.read_csv('train.csv')\n",
        "test=pd.read_csv('test.csv')\n",
        "id=test['Id']\n",
        "train.head()"
      ],
      "execution_count": null,
      "outputs": [
        {
          "output_type": "execute_result",
          "data": {
            "text/html": [
              "<div>\n",
              "<style scoped>\n",
              "    .dataframe tbody tr th:only-of-type {\n",
              "        vertical-align: middle;\n",
              "    }\n",
              "\n",
              "    .dataframe tbody tr th {\n",
              "        vertical-align: top;\n",
              "    }\n",
              "\n",
              "    .dataframe thead th {\n",
              "        text-align: right;\n",
              "    }\n",
              "</style>\n",
              "<table border=\"1\" class=\"dataframe\">\n",
              "  <thead>\n",
              "    <tr style=\"text-align: right;\">\n",
              "      <th></th>\n",
              "      <th>Id</th>\n",
              "      <th>MSSubClass</th>\n",
              "      <th>MSZoning</th>\n",
              "      <th>LotFrontage</th>\n",
              "      <th>LotArea</th>\n",
              "      <th>Street</th>\n",
              "      <th>Alley</th>\n",
              "      <th>LotShape</th>\n",
              "      <th>LandContour</th>\n",
              "      <th>Utilities</th>\n",
              "      <th>...</th>\n",
              "      <th>PoolArea</th>\n",
              "      <th>PoolQC</th>\n",
              "      <th>Fence</th>\n",
              "      <th>MiscFeature</th>\n",
              "      <th>MiscVal</th>\n",
              "      <th>MoSold</th>\n",
              "      <th>YrSold</th>\n",
              "      <th>SaleType</th>\n",
              "      <th>SaleCondition</th>\n",
              "      <th>SalePrice</th>\n",
              "    </tr>\n",
              "  </thead>\n",
              "  <tbody>\n",
              "    <tr>\n",
              "      <th>0</th>\n",
              "      <td>1</td>\n",
              "      <td>60</td>\n",
              "      <td>RL</td>\n",
              "      <td>65.0</td>\n",
              "      <td>8450</td>\n",
              "      <td>Pave</td>\n",
              "      <td>NaN</td>\n",
              "      <td>Reg</td>\n",
              "      <td>Lvl</td>\n",
              "      <td>AllPub</td>\n",
              "      <td>...</td>\n",
              "      <td>0</td>\n",
              "      <td>NaN</td>\n",
              "      <td>NaN</td>\n",
              "      <td>NaN</td>\n",
              "      <td>0</td>\n",
              "      <td>2</td>\n",
              "      <td>2008</td>\n",
              "      <td>WD</td>\n",
              "      <td>Normal</td>\n",
              "      <td>208500</td>\n",
              "    </tr>\n",
              "    <tr>\n",
              "      <th>1</th>\n",
              "      <td>2</td>\n",
              "      <td>20</td>\n",
              "      <td>RL</td>\n",
              "      <td>80.0</td>\n",
              "      <td>9600</td>\n",
              "      <td>Pave</td>\n",
              "      <td>NaN</td>\n",
              "      <td>Reg</td>\n",
              "      <td>Lvl</td>\n",
              "      <td>AllPub</td>\n",
              "      <td>...</td>\n",
              "      <td>0</td>\n",
              "      <td>NaN</td>\n",
              "      <td>NaN</td>\n",
              "      <td>NaN</td>\n",
              "      <td>0</td>\n",
              "      <td>5</td>\n",
              "      <td>2007</td>\n",
              "      <td>WD</td>\n",
              "      <td>Normal</td>\n",
              "      <td>181500</td>\n",
              "    </tr>\n",
              "    <tr>\n",
              "      <th>2</th>\n",
              "      <td>3</td>\n",
              "      <td>60</td>\n",
              "      <td>RL</td>\n",
              "      <td>68.0</td>\n",
              "      <td>11250</td>\n",
              "      <td>Pave</td>\n",
              "      <td>NaN</td>\n",
              "      <td>IR1</td>\n",
              "      <td>Lvl</td>\n",
              "      <td>AllPub</td>\n",
              "      <td>...</td>\n",
              "      <td>0</td>\n",
              "      <td>NaN</td>\n",
              "      <td>NaN</td>\n",
              "      <td>NaN</td>\n",
              "      <td>0</td>\n",
              "      <td>9</td>\n",
              "      <td>2008</td>\n",
              "      <td>WD</td>\n",
              "      <td>Normal</td>\n",
              "      <td>223500</td>\n",
              "    </tr>\n",
              "    <tr>\n",
              "      <th>3</th>\n",
              "      <td>4</td>\n",
              "      <td>70</td>\n",
              "      <td>RL</td>\n",
              "      <td>60.0</td>\n",
              "      <td>9550</td>\n",
              "      <td>Pave</td>\n",
              "      <td>NaN</td>\n",
              "      <td>IR1</td>\n",
              "      <td>Lvl</td>\n",
              "      <td>AllPub</td>\n",
              "      <td>...</td>\n",
              "      <td>0</td>\n",
              "      <td>NaN</td>\n",
              "      <td>NaN</td>\n",
              "      <td>NaN</td>\n",
              "      <td>0</td>\n",
              "      <td>2</td>\n",
              "      <td>2006</td>\n",
              "      <td>WD</td>\n",
              "      <td>Abnorml</td>\n",
              "      <td>140000</td>\n",
              "    </tr>\n",
              "    <tr>\n",
              "      <th>4</th>\n",
              "      <td>5</td>\n",
              "      <td>60</td>\n",
              "      <td>RL</td>\n",
              "      <td>84.0</td>\n",
              "      <td>14260</td>\n",
              "      <td>Pave</td>\n",
              "      <td>NaN</td>\n",
              "      <td>IR1</td>\n",
              "      <td>Lvl</td>\n",
              "      <td>AllPub</td>\n",
              "      <td>...</td>\n",
              "      <td>0</td>\n",
              "      <td>NaN</td>\n",
              "      <td>NaN</td>\n",
              "      <td>NaN</td>\n",
              "      <td>0</td>\n",
              "      <td>12</td>\n",
              "      <td>2008</td>\n",
              "      <td>WD</td>\n",
              "      <td>Normal</td>\n",
              "      <td>250000</td>\n",
              "    </tr>\n",
              "  </tbody>\n",
              "</table>\n",
              "<p>5 rows × 81 columns</p>\n",
              "</div>"
            ],
            "text/plain": [
              "   Id  MSSubClass MSZoning  LotFrontage  LotArea Street Alley LotShape  \\\n",
              "0   1          60       RL         65.0     8450   Pave   NaN      Reg   \n",
              "1   2          20       RL         80.0     9600   Pave   NaN      Reg   \n",
              "2   3          60       RL         68.0    11250   Pave   NaN      IR1   \n",
              "3   4          70       RL         60.0     9550   Pave   NaN      IR1   \n",
              "4   5          60       RL         84.0    14260   Pave   NaN      IR1   \n",
              "\n",
              "  LandContour Utilities  ... PoolArea PoolQC Fence MiscFeature MiscVal MoSold  \\\n",
              "0         Lvl    AllPub  ...        0    NaN   NaN         NaN       0      2   \n",
              "1         Lvl    AllPub  ...        0    NaN   NaN         NaN       0      5   \n",
              "2         Lvl    AllPub  ...        0    NaN   NaN         NaN       0      9   \n",
              "3         Lvl    AllPub  ...        0    NaN   NaN         NaN       0      2   \n",
              "4         Lvl    AllPub  ...        0    NaN   NaN         NaN       0     12   \n",
              "\n",
              "  YrSold  SaleType  SaleCondition  SalePrice  \n",
              "0   2008        WD         Normal     208500  \n",
              "1   2007        WD         Normal     181500  \n",
              "2   2008        WD         Normal     223500  \n",
              "3   2006        WD        Abnorml     140000  \n",
              "4   2008        WD         Normal     250000  \n",
              "\n",
              "[5 rows x 81 columns]"
            ]
          },
          "metadata": {
            "tags": []
          },
          "execution_count": 4
        }
      ]
    },
    {
      "cell_type": "markdown",
      "metadata": {
        "papermill": {
          "duration": 0.033514,
          "end_time": "2020-12-27T06:18:20.071141",
          "exception": false,
          "start_time": "2020-12-27T06:18:20.037627",
          "status": "completed"
        },
        "tags": [],
        "id": "IX_NewNEpBOL"
      },
      "source": [
        "### 2. Finding the Data-type of each column"
      ]
    },
    {
      "cell_type": "code",
      "metadata": {
        "execution": {
          "iopub.execute_input": "2020-12-27T06:18:20.154040Z",
          "iopub.status.busy": "2020-12-27T06:18:20.152660Z",
          "iopub.status.idle": "2020-12-27T06:18:20.182357Z",
          "shell.execute_reply": "2020-12-27T06:18:20.181460Z"
        },
        "papermill": {
          "duration": 0.078019,
          "end_time": "2020-12-27T06:18:20.182493",
          "exception": false,
          "start_time": "2020-12-27T06:18:20.104474",
          "status": "completed"
        },
        "tags": [],
        "id": "GvNPZz4JpBOM",
        "outputId": "971505d4-55f9-4f3c-9107-a1049abe01b7"
      },
      "source": [
        "train.info()"
      ],
      "execution_count": null,
      "outputs": [
        {
          "output_type": "stream",
          "text": [
            "<class 'pandas.core.frame.DataFrame'>\n",
            "RangeIndex: 1460 entries, 0 to 1459\n",
            "Data columns (total 81 columns):\n",
            " #   Column         Non-Null Count  Dtype  \n",
            "---  ------         --------------  -----  \n",
            " 0   Id             1460 non-null   int64  \n",
            " 1   MSSubClass     1460 non-null   int64  \n",
            " 2   MSZoning       1460 non-null   object \n",
            " 3   LotFrontage    1201 non-null   float64\n",
            " 4   LotArea        1460 non-null   int64  \n",
            " 5   Street         1460 non-null   object \n",
            " 6   Alley          91 non-null     object \n",
            " 7   LotShape       1460 non-null   object \n",
            " 8   LandContour    1460 non-null   object \n",
            " 9   Utilities      1460 non-null   object \n",
            " 10  LotConfig      1460 non-null   object \n",
            " 11  LandSlope      1460 non-null   object \n",
            " 12  Neighborhood   1460 non-null   object \n",
            " 13  Condition1     1460 non-null   object \n",
            " 14  Condition2     1460 non-null   object \n",
            " 15  BldgType       1460 non-null   object \n",
            " 16  HouseStyle     1460 non-null   object \n",
            " 17  OverallQual    1460 non-null   int64  \n",
            " 18  OverallCond    1460 non-null   int64  \n",
            " 19  YearBuilt      1460 non-null   int64  \n",
            " 20  YearRemodAdd   1460 non-null   int64  \n",
            " 21  RoofStyle      1460 non-null   object \n",
            " 22  RoofMatl       1460 non-null   object \n",
            " 23  Exterior1st    1460 non-null   object \n",
            " 24  Exterior2nd    1460 non-null   object \n",
            " 25  MasVnrType     1452 non-null   object \n",
            " 26  MasVnrArea     1452 non-null   float64\n",
            " 27  ExterQual      1460 non-null   object \n",
            " 28  ExterCond      1460 non-null   object \n",
            " 29  Foundation     1460 non-null   object \n",
            " 30  BsmtQual       1423 non-null   object \n",
            " 31  BsmtCond       1423 non-null   object \n",
            " 32  BsmtExposure   1422 non-null   object \n",
            " 33  BsmtFinType1   1423 non-null   object \n",
            " 34  BsmtFinSF1     1460 non-null   int64  \n",
            " 35  BsmtFinType2   1422 non-null   object \n",
            " 36  BsmtFinSF2     1460 non-null   int64  \n",
            " 37  BsmtUnfSF      1460 non-null   int64  \n",
            " 38  TotalBsmtSF    1460 non-null   int64  \n",
            " 39  Heating        1460 non-null   object \n",
            " 40  HeatingQC      1460 non-null   object \n",
            " 41  CentralAir     1460 non-null   object \n",
            " 42  Electrical     1459 non-null   object \n",
            " 43  1stFlrSF       1460 non-null   int64  \n",
            " 44  2ndFlrSF       1460 non-null   int64  \n",
            " 45  LowQualFinSF   1460 non-null   int64  \n",
            " 46  GrLivArea      1460 non-null   int64  \n",
            " 47  BsmtFullBath   1460 non-null   int64  \n",
            " 48  BsmtHalfBath   1460 non-null   int64  \n",
            " 49  FullBath       1460 non-null   int64  \n",
            " 50  HalfBath       1460 non-null   int64  \n",
            " 51  BedroomAbvGr   1460 non-null   int64  \n",
            " 52  KitchenAbvGr   1460 non-null   int64  \n",
            " 53  KitchenQual    1460 non-null   object \n",
            " 54  TotRmsAbvGrd   1460 non-null   int64  \n",
            " 55  Functional     1460 non-null   object \n",
            " 56  Fireplaces     1460 non-null   int64  \n",
            " 57  FireplaceQu    770 non-null    object \n",
            " 58  GarageType     1379 non-null   object \n",
            " 59  GarageYrBlt    1379 non-null   float64\n",
            " 60  GarageFinish   1379 non-null   object \n",
            " 61  GarageCars     1460 non-null   int64  \n",
            " 62  GarageArea     1460 non-null   int64  \n",
            " 63  GarageQual     1379 non-null   object \n",
            " 64  GarageCond     1379 non-null   object \n",
            " 65  PavedDrive     1460 non-null   object \n",
            " 66  WoodDeckSF     1460 non-null   int64  \n",
            " 67  OpenPorchSF    1460 non-null   int64  \n",
            " 68  EnclosedPorch  1460 non-null   int64  \n",
            " 69  3SsnPorch      1460 non-null   int64  \n",
            " 70  ScreenPorch    1460 non-null   int64  \n",
            " 71  PoolArea       1460 non-null   int64  \n",
            " 72  PoolQC         7 non-null      object \n",
            " 73  Fence          281 non-null    object \n",
            " 74  MiscFeature    54 non-null     object \n",
            " 75  MiscVal        1460 non-null   int64  \n",
            " 76  MoSold         1460 non-null   int64  \n",
            " 77  YrSold         1460 non-null   int64  \n",
            " 78  SaleType       1460 non-null   object \n",
            " 79  SaleCondition  1460 non-null   object \n",
            " 80  SalePrice      1460 non-null   int64  \n",
            "dtypes: float64(3), int64(35), object(43)\n",
            "memory usage: 924.0+ KB\n"
          ],
          "name": "stdout"
        }
      ]
    },
    {
      "cell_type": "code",
      "metadata": {
        "execution": {
          "iopub.execute_input": "2020-12-27T06:18:20.269152Z",
          "iopub.status.busy": "2020-12-27T06:18:20.268344Z",
          "iopub.status.idle": "2020-12-27T06:18:20.290931Z",
          "shell.execute_reply": "2020-12-27T06:18:20.290101Z"
        },
        "papermill": {
          "duration": 0.072691,
          "end_time": "2020-12-27T06:18:20.291062",
          "exception": false,
          "start_time": "2020-12-27T06:18:20.218371",
          "status": "completed"
        },
        "tags": [],
        "id": "ahBAHBn3pBOM",
        "outputId": "14697377-85ba-4d76-97f8-0f2e03715808"
      },
      "source": [
        "test.info()"
      ],
      "execution_count": null,
      "outputs": [
        {
          "output_type": "stream",
          "text": [
            "<class 'pandas.core.frame.DataFrame'>\n",
            "RangeIndex: 1459 entries, 0 to 1458\n",
            "Data columns (total 80 columns):\n",
            " #   Column         Non-Null Count  Dtype  \n",
            "---  ------         --------------  -----  \n",
            " 0   Id             1459 non-null   int64  \n",
            " 1   MSSubClass     1459 non-null   int64  \n",
            " 2   MSZoning       1455 non-null   object \n",
            " 3   LotFrontage    1232 non-null   float64\n",
            " 4   LotArea        1459 non-null   int64  \n",
            " 5   Street         1459 non-null   object \n",
            " 6   Alley          107 non-null    object \n",
            " 7   LotShape       1459 non-null   object \n",
            " 8   LandContour    1459 non-null   object \n",
            " 9   Utilities      1457 non-null   object \n",
            " 10  LotConfig      1459 non-null   object \n",
            " 11  LandSlope      1459 non-null   object \n",
            " 12  Neighborhood   1459 non-null   object \n",
            " 13  Condition1     1459 non-null   object \n",
            " 14  Condition2     1459 non-null   object \n",
            " 15  BldgType       1459 non-null   object \n",
            " 16  HouseStyle     1459 non-null   object \n",
            " 17  OverallQual    1459 non-null   int64  \n",
            " 18  OverallCond    1459 non-null   int64  \n",
            " 19  YearBuilt      1459 non-null   int64  \n",
            " 20  YearRemodAdd   1459 non-null   int64  \n",
            " 21  RoofStyle      1459 non-null   object \n",
            " 22  RoofMatl       1459 non-null   object \n",
            " 23  Exterior1st    1458 non-null   object \n",
            " 24  Exterior2nd    1458 non-null   object \n",
            " 25  MasVnrType     1443 non-null   object \n",
            " 26  MasVnrArea     1444 non-null   float64\n",
            " 27  ExterQual      1459 non-null   object \n",
            " 28  ExterCond      1459 non-null   object \n",
            " 29  Foundation     1459 non-null   object \n",
            " 30  BsmtQual       1415 non-null   object \n",
            " 31  BsmtCond       1414 non-null   object \n",
            " 32  BsmtExposure   1415 non-null   object \n",
            " 33  BsmtFinType1   1417 non-null   object \n",
            " 34  BsmtFinSF1     1458 non-null   float64\n",
            " 35  BsmtFinType2   1417 non-null   object \n",
            " 36  BsmtFinSF2     1458 non-null   float64\n",
            " 37  BsmtUnfSF      1458 non-null   float64\n",
            " 38  TotalBsmtSF    1458 non-null   float64\n",
            " 39  Heating        1459 non-null   object \n",
            " 40  HeatingQC      1459 non-null   object \n",
            " 41  CentralAir     1459 non-null   object \n",
            " 42  Electrical     1459 non-null   object \n",
            " 43  1stFlrSF       1459 non-null   int64  \n",
            " 44  2ndFlrSF       1459 non-null   int64  \n",
            " 45  LowQualFinSF   1459 non-null   int64  \n",
            " 46  GrLivArea      1459 non-null   int64  \n",
            " 47  BsmtFullBath   1457 non-null   float64\n",
            " 48  BsmtHalfBath   1457 non-null   float64\n",
            " 49  FullBath       1459 non-null   int64  \n",
            " 50  HalfBath       1459 non-null   int64  \n",
            " 51  BedroomAbvGr   1459 non-null   int64  \n",
            " 52  KitchenAbvGr   1459 non-null   int64  \n",
            " 53  KitchenQual    1458 non-null   object \n",
            " 54  TotRmsAbvGrd   1459 non-null   int64  \n",
            " 55  Functional     1457 non-null   object \n",
            " 56  Fireplaces     1459 non-null   int64  \n",
            " 57  FireplaceQu    729 non-null    object \n",
            " 58  GarageType     1383 non-null   object \n",
            " 59  GarageYrBlt    1381 non-null   float64\n",
            " 60  GarageFinish   1381 non-null   object \n",
            " 61  GarageCars     1458 non-null   float64\n",
            " 62  GarageArea     1458 non-null   float64\n",
            " 63  GarageQual     1381 non-null   object \n",
            " 64  GarageCond     1381 non-null   object \n",
            " 65  PavedDrive     1459 non-null   object \n",
            " 66  WoodDeckSF     1459 non-null   int64  \n",
            " 67  OpenPorchSF    1459 non-null   int64  \n",
            " 68  EnclosedPorch  1459 non-null   int64  \n",
            " 69  3SsnPorch      1459 non-null   int64  \n",
            " 70  ScreenPorch    1459 non-null   int64  \n",
            " 71  PoolArea       1459 non-null   int64  \n",
            " 72  PoolQC         3 non-null      object \n",
            " 73  Fence          290 non-null    object \n",
            " 74  MiscFeature    51 non-null     object \n",
            " 75  MiscVal        1459 non-null   int64  \n",
            " 76  MoSold         1459 non-null   int64  \n",
            " 77  YrSold         1459 non-null   int64  \n",
            " 78  SaleType       1458 non-null   object \n",
            " 79  SaleCondition  1459 non-null   object \n",
            "dtypes: float64(11), int64(26), object(43)\n",
            "memory usage: 912.0+ KB\n"
          ],
          "name": "stdout"
        }
      ]
    },
    {
      "cell_type": "markdown",
      "metadata": {
        "papermill": {
          "duration": 0.035075,
          "end_time": "2020-12-27T06:18:20.362780",
          "exception": false,
          "start_time": "2020-12-27T06:18:20.327705",
          "status": "completed"
        },
        "tags": [],
        "id": "sF5MSxBspBOM"
      },
      "source": [
        "### 3. Finding the number of null values in each columns"
      ]
    },
    {
      "cell_type": "code",
      "metadata": {
        "execution": {
          "iopub.execute_input": "2020-12-27T06:18:20.449033Z",
          "iopub.status.busy": "2020-12-27T06:18:20.448226Z",
          "iopub.status.idle": "2020-12-27T06:18:20.457488Z",
          "shell.execute_reply": "2020-12-27T06:18:20.456745Z"
        },
        "papermill": {
          "duration": 0.059048,
          "end_time": "2020-12-27T06:18:20.457600",
          "exception": false,
          "start_time": "2020-12-27T06:18:20.398552",
          "status": "completed"
        },
        "tags": [],
        "id": "UF4ToMJOpBOM",
        "outputId": "7a8272f2-7ae8-4747-afa6-4c7d320a5b28"
      },
      "source": [
        "train.isnull().sum()"
      ],
      "execution_count": null,
      "outputs": [
        {
          "output_type": "execute_result",
          "data": {
            "text/plain": [
              "Id                 0\n",
              "MSSubClass         0\n",
              "MSZoning           0\n",
              "LotFrontage      259\n",
              "LotArea            0\n",
              "                ... \n",
              "MoSold             0\n",
              "YrSold             0\n",
              "SaleType           0\n",
              "SaleCondition      0\n",
              "SalePrice          0\n",
              "Length: 81, dtype: int64"
            ]
          },
          "metadata": {
            "tags": []
          },
          "execution_count": 7
        }
      ]
    },
    {
      "cell_type": "code",
      "metadata": {
        "execution": {
          "iopub.execute_input": "2020-12-27T06:18:20.519430Z",
          "iopub.status.busy": "2020-12-27T06:18:20.518194Z",
          "iopub.status.idle": "2020-12-27T06:18:20.527799Z",
          "shell.execute_reply": "2020-12-27T06:18:20.528300Z"
        },
        "papermill": {
          "duration": 0.046615,
          "end_time": "2020-12-27T06:18:20.528429",
          "exception": false,
          "start_time": "2020-12-27T06:18:20.481814",
          "status": "completed"
        },
        "tags": [],
        "id": "i3L88y_zpBON",
        "outputId": "274635a4-0afe-4544-f137-1af5602e81dc"
      },
      "source": [
        "test.isnull().sum()"
      ],
      "execution_count": null,
      "outputs": [
        {
          "output_type": "execute_result",
          "data": {
            "text/plain": [
              "Id                 0\n",
              "MSSubClass         0\n",
              "MSZoning           4\n",
              "LotFrontage      227\n",
              "LotArea            0\n",
              "                ... \n",
              "MiscVal            0\n",
              "MoSold             0\n",
              "YrSold             0\n",
              "SaleType           1\n",
              "SaleCondition      0\n",
              "Length: 80, dtype: int64"
            ]
          },
          "metadata": {
            "tags": []
          },
          "execution_count": 8
        }
      ]
    },
    {
      "cell_type": "markdown",
      "metadata": {
        "papermill": {
          "duration": 0.024357,
          "end_time": "2020-12-27T06:18:20.577698",
          "exception": false,
          "start_time": "2020-12-27T06:18:20.553341",
          "status": "completed"
        },
        "tags": [],
        "id": "maHYDbvHpBON"
      },
      "source": [
        "### 4. Finding the columns in each dataset"
      ]
    },
    {
      "cell_type": "code",
      "metadata": {
        "execution": {
          "iopub.execute_input": "2020-12-27T06:18:20.634469Z",
          "iopub.status.busy": "2020-12-27T06:18:20.633692Z",
          "iopub.status.idle": "2020-12-27T06:18:20.639565Z",
          "shell.execute_reply": "2020-12-27T06:18:20.640257Z"
        },
        "papermill": {
          "duration": 0.037962,
          "end_time": "2020-12-27T06:18:20.640412",
          "exception": false,
          "start_time": "2020-12-27T06:18:20.602450",
          "status": "completed"
        },
        "tags": [],
        "id": "tWk_urqOpBON",
        "outputId": "fa713279-d0dd-435c-a007-4a2e8687f25e"
      },
      "source": [
        "train.columns"
      ],
      "execution_count": null,
      "outputs": [
        {
          "output_type": "execute_result",
          "data": {
            "text/plain": [
              "Index(['Id', 'MSSubClass', 'MSZoning', 'LotFrontage', 'LotArea', 'Street',\n",
              "       'Alley', 'LotShape', 'LandContour', 'Utilities', 'LotConfig',\n",
              "       'LandSlope', 'Neighborhood', 'Condition1', 'Condition2', 'BldgType',\n",
              "       'HouseStyle', 'OverallQual', 'OverallCond', 'YearBuilt', 'YearRemodAdd',\n",
              "       'RoofStyle', 'RoofMatl', 'Exterior1st', 'Exterior2nd', 'MasVnrType',\n",
              "       'MasVnrArea', 'ExterQual', 'ExterCond', 'Foundation', 'BsmtQual',\n",
              "       'BsmtCond', 'BsmtExposure', 'BsmtFinType1', 'BsmtFinSF1',\n",
              "       'BsmtFinType2', 'BsmtFinSF2', 'BsmtUnfSF', 'TotalBsmtSF', 'Heating',\n",
              "       'HeatingQC', 'CentralAir', 'Electrical', '1stFlrSF', '2ndFlrSF',\n",
              "       'LowQualFinSF', 'GrLivArea', 'BsmtFullBath', 'BsmtHalfBath', 'FullBath',\n",
              "       'HalfBath', 'BedroomAbvGr', 'KitchenAbvGr', 'KitchenQual',\n",
              "       'TotRmsAbvGrd', 'Functional', 'Fireplaces', 'FireplaceQu', 'GarageType',\n",
              "       'GarageYrBlt', 'GarageFinish', 'GarageCars', 'GarageArea', 'GarageQual',\n",
              "       'GarageCond', 'PavedDrive', 'WoodDeckSF', 'OpenPorchSF',\n",
              "       'EnclosedPorch', '3SsnPorch', 'ScreenPorch', 'PoolArea', 'PoolQC',\n",
              "       'Fence', 'MiscFeature', 'MiscVal', 'MoSold', 'YrSold', 'SaleType',\n",
              "       'SaleCondition', 'SalePrice'],\n",
              "      dtype='object')"
            ]
          },
          "metadata": {
            "tags": []
          },
          "execution_count": 9
        }
      ]
    },
    {
      "cell_type": "code",
      "metadata": {
        "execution": {
          "iopub.execute_input": "2020-12-27T06:18:20.728716Z",
          "iopub.status.busy": "2020-12-27T06:18:20.727705Z",
          "iopub.status.idle": "2020-12-27T06:18:20.733213Z",
          "shell.execute_reply": "2020-12-27T06:18:20.732523Z"
        },
        "papermill": {
          "duration": 0.053913,
          "end_time": "2020-12-27T06:18:20.733336",
          "exception": false,
          "start_time": "2020-12-27T06:18:20.679423",
          "status": "completed"
        },
        "tags": [],
        "id": "1NLR75zIpBOO",
        "outputId": "ada815bb-ff45-4bc6-de44-34280a664544"
      },
      "source": [
        "test.columns"
      ],
      "execution_count": null,
      "outputs": [
        {
          "output_type": "execute_result",
          "data": {
            "text/plain": [
              "Index(['Id', 'MSSubClass', 'MSZoning', 'LotFrontage', 'LotArea', 'Street',\n",
              "       'Alley', 'LotShape', 'LandContour', 'Utilities', 'LotConfig',\n",
              "       'LandSlope', 'Neighborhood', 'Condition1', 'Condition2', 'BldgType',\n",
              "       'HouseStyle', 'OverallQual', 'OverallCond', 'YearBuilt', 'YearRemodAdd',\n",
              "       'RoofStyle', 'RoofMatl', 'Exterior1st', 'Exterior2nd', 'MasVnrType',\n",
              "       'MasVnrArea', 'ExterQual', 'ExterCond', 'Foundation', 'BsmtQual',\n",
              "       'BsmtCond', 'BsmtExposure', 'BsmtFinType1', 'BsmtFinSF1',\n",
              "       'BsmtFinType2', 'BsmtFinSF2', 'BsmtUnfSF', 'TotalBsmtSF', 'Heating',\n",
              "       'HeatingQC', 'CentralAir', 'Electrical', '1stFlrSF', '2ndFlrSF',\n",
              "       'LowQualFinSF', 'GrLivArea', 'BsmtFullBath', 'BsmtHalfBath', 'FullBath',\n",
              "       'HalfBath', 'BedroomAbvGr', 'KitchenAbvGr', 'KitchenQual',\n",
              "       'TotRmsAbvGrd', 'Functional', 'Fireplaces', 'FireplaceQu', 'GarageType',\n",
              "       'GarageYrBlt', 'GarageFinish', 'GarageCars', 'GarageArea', 'GarageQual',\n",
              "       'GarageCond', 'PavedDrive', 'WoodDeckSF', 'OpenPorchSF',\n",
              "       'EnclosedPorch', '3SsnPorch', 'ScreenPorch', 'PoolArea', 'PoolQC',\n",
              "       'Fence', 'MiscFeature', 'MiscVal', 'MoSold', 'YrSold', 'SaleType',\n",
              "       'SaleCondition'],\n",
              "      dtype='object')"
            ]
          },
          "metadata": {
            "tags": []
          },
          "execution_count": 10
        }
      ]
    },
    {
      "cell_type": "markdown",
      "metadata": {
        "papermill": {
          "duration": 0.038202,
          "end_time": "2020-12-27T06:18:20.809880",
          "exception": false,
          "start_time": "2020-12-27T06:18:20.771678",
          "status": "completed"
        },
        "tags": [],
        "id": "1jQ4tUtEpBOO"
      },
      "source": [
        "### 5. Dropping some useless column. Also dropping some columns with more NULL values"
      ]
    },
    {
      "cell_type": "code",
      "metadata": {
        "execution": {
          "iopub.execute_input": "2020-12-27T06:18:20.922819Z",
          "iopub.status.busy": "2020-12-27T06:18:20.896581Z",
          "iopub.status.idle": "2020-12-27T06:18:20.928404Z",
          "shell.execute_reply": "2020-12-27T06:18:20.927652Z"
        },
        "papermill": {
          "duration": 0.080581,
          "end_time": "2020-12-27T06:18:20.928527",
          "exception": false,
          "start_time": "2020-12-27T06:18:20.847946",
          "status": "completed"
        },
        "tags": [],
        "id": "ERo5ryEHpBOO",
        "outputId": "2c888e63-81ac-416c-f043-72f2aef26e65"
      },
      "source": [
        "train.drop(columns=['Id', 'PoolQC', 'Fence','MSZoning','MiscFeature','Alley'], axis=1)\n",
        "test=test.drop(columns=['PoolQC', 'Fence','MSZoning','MiscFeature','Alley'], axis=1)\n",
        "# train.head()\n",
        "test.head()"
      ],
      "execution_count": null,
      "outputs": [
        {
          "output_type": "execute_result",
          "data": {
            "text/html": [
              "<div>\n",
              "<style scoped>\n",
              "    .dataframe tbody tr th:only-of-type {\n",
              "        vertical-align: middle;\n",
              "    }\n",
              "\n",
              "    .dataframe tbody tr th {\n",
              "        vertical-align: top;\n",
              "    }\n",
              "\n",
              "    .dataframe thead th {\n",
              "        text-align: right;\n",
              "    }\n",
              "</style>\n",
              "<table border=\"1\" class=\"dataframe\">\n",
              "  <thead>\n",
              "    <tr style=\"text-align: right;\">\n",
              "      <th></th>\n",
              "      <th>Id</th>\n",
              "      <th>MSSubClass</th>\n",
              "      <th>LotFrontage</th>\n",
              "      <th>LotArea</th>\n",
              "      <th>Street</th>\n",
              "      <th>LotShape</th>\n",
              "      <th>LandContour</th>\n",
              "      <th>Utilities</th>\n",
              "      <th>LotConfig</th>\n",
              "      <th>LandSlope</th>\n",
              "      <th>...</th>\n",
              "      <th>OpenPorchSF</th>\n",
              "      <th>EnclosedPorch</th>\n",
              "      <th>3SsnPorch</th>\n",
              "      <th>ScreenPorch</th>\n",
              "      <th>PoolArea</th>\n",
              "      <th>MiscVal</th>\n",
              "      <th>MoSold</th>\n",
              "      <th>YrSold</th>\n",
              "      <th>SaleType</th>\n",
              "      <th>SaleCondition</th>\n",
              "    </tr>\n",
              "  </thead>\n",
              "  <tbody>\n",
              "    <tr>\n",
              "      <th>0</th>\n",
              "      <td>1461</td>\n",
              "      <td>20</td>\n",
              "      <td>80.0</td>\n",
              "      <td>11622</td>\n",
              "      <td>Pave</td>\n",
              "      <td>Reg</td>\n",
              "      <td>Lvl</td>\n",
              "      <td>AllPub</td>\n",
              "      <td>Inside</td>\n",
              "      <td>Gtl</td>\n",
              "      <td>...</td>\n",
              "      <td>0</td>\n",
              "      <td>0</td>\n",
              "      <td>0</td>\n",
              "      <td>120</td>\n",
              "      <td>0</td>\n",
              "      <td>0</td>\n",
              "      <td>6</td>\n",
              "      <td>2010</td>\n",
              "      <td>WD</td>\n",
              "      <td>Normal</td>\n",
              "    </tr>\n",
              "    <tr>\n",
              "      <th>1</th>\n",
              "      <td>1462</td>\n",
              "      <td>20</td>\n",
              "      <td>81.0</td>\n",
              "      <td>14267</td>\n",
              "      <td>Pave</td>\n",
              "      <td>IR1</td>\n",
              "      <td>Lvl</td>\n",
              "      <td>AllPub</td>\n",
              "      <td>Corner</td>\n",
              "      <td>Gtl</td>\n",
              "      <td>...</td>\n",
              "      <td>36</td>\n",
              "      <td>0</td>\n",
              "      <td>0</td>\n",
              "      <td>0</td>\n",
              "      <td>0</td>\n",
              "      <td>12500</td>\n",
              "      <td>6</td>\n",
              "      <td>2010</td>\n",
              "      <td>WD</td>\n",
              "      <td>Normal</td>\n",
              "    </tr>\n",
              "    <tr>\n",
              "      <th>2</th>\n",
              "      <td>1463</td>\n",
              "      <td>60</td>\n",
              "      <td>74.0</td>\n",
              "      <td>13830</td>\n",
              "      <td>Pave</td>\n",
              "      <td>IR1</td>\n",
              "      <td>Lvl</td>\n",
              "      <td>AllPub</td>\n",
              "      <td>Inside</td>\n",
              "      <td>Gtl</td>\n",
              "      <td>...</td>\n",
              "      <td>34</td>\n",
              "      <td>0</td>\n",
              "      <td>0</td>\n",
              "      <td>0</td>\n",
              "      <td>0</td>\n",
              "      <td>0</td>\n",
              "      <td>3</td>\n",
              "      <td>2010</td>\n",
              "      <td>WD</td>\n",
              "      <td>Normal</td>\n",
              "    </tr>\n",
              "    <tr>\n",
              "      <th>3</th>\n",
              "      <td>1464</td>\n",
              "      <td>60</td>\n",
              "      <td>78.0</td>\n",
              "      <td>9978</td>\n",
              "      <td>Pave</td>\n",
              "      <td>IR1</td>\n",
              "      <td>Lvl</td>\n",
              "      <td>AllPub</td>\n",
              "      <td>Inside</td>\n",
              "      <td>Gtl</td>\n",
              "      <td>...</td>\n",
              "      <td>36</td>\n",
              "      <td>0</td>\n",
              "      <td>0</td>\n",
              "      <td>0</td>\n",
              "      <td>0</td>\n",
              "      <td>0</td>\n",
              "      <td>6</td>\n",
              "      <td>2010</td>\n",
              "      <td>WD</td>\n",
              "      <td>Normal</td>\n",
              "    </tr>\n",
              "    <tr>\n",
              "      <th>4</th>\n",
              "      <td>1465</td>\n",
              "      <td>120</td>\n",
              "      <td>43.0</td>\n",
              "      <td>5005</td>\n",
              "      <td>Pave</td>\n",
              "      <td>IR1</td>\n",
              "      <td>HLS</td>\n",
              "      <td>AllPub</td>\n",
              "      <td>Inside</td>\n",
              "      <td>Gtl</td>\n",
              "      <td>...</td>\n",
              "      <td>82</td>\n",
              "      <td>0</td>\n",
              "      <td>0</td>\n",
              "      <td>144</td>\n",
              "      <td>0</td>\n",
              "      <td>0</td>\n",
              "      <td>1</td>\n",
              "      <td>2010</td>\n",
              "      <td>WD</td>\n",
              "      <td>Normal</td>\n",
              "    </tr>\n",
              "  </tbody>\n",
              "</table>\n",
              "<p>5 rows × 75 columns</p>\n",
              "</div>"
            ],
            "text/plain": [
              "     Id  MSSubClass  LotFrontage  LotArea Street LotShape LandContour  \\\n",
              "0  1461          20         80.0    11622   Pave      Reg         Lvl   \n",
              "1  1462          20         81.0    14267   Pave      IR1         Lvl   \n",
              "2  1463          60         74.0    13830   Pave      IR1         Lvl   \n",
              "3  1464          60         78.0     9978   Pave      IR1         Lvl   \n",
              "4  1465         120         43.0     5005   Pave      IR1         HLS   \n",
              "\n",
              "  Utilities LotConfig LandSlope  ... OpenPorchSF EnclosedPorch 3SsnPorch  \\\n",
              "0    AllPub    Inside       Gtl  ...           0             0         0   \n",
              "1    AllPub    Corner       Gtl  ...          36             0         0   \n",
              "2    AllPub    Inside       Gtl  ...          34             0         0   \n",
              "3    AllPub    Inside       Gtl  ...          36             0         0   \n",
              "4    AllPub    Inside       Gtl  ...          82             0         0   \n",
              "\n",
              "  ScreenPorch PoolArea  MiscVal  MoSold  YrSold  SaleType SaleCondition  \n",
              "0         120        0        0       6    2010        WD        Normal  \n",
              "1           0        0    12500       6    2010        WD        Normal  \n",
              "2           0        0        0       3    2010        WD        Normal  \n",
              "3           0        0        0       6    2010        WD        Normal  \n",
              "4         144        0        0       1    2010        WD        Normal  \n",
              "\n",
              "[5 rows x 75 columns]"
            ]
          },
          "metadata": {
            "tags": []
          },
          "execution_count": 11
        }
      ]
    },
    {
      "cell_type": "markdown",
      "metadata": {
        "papermill": {
          "duration": 0.039253,
          "end_time": "2020-12-27T06:18:21.008207",
          "exception": false,
          "start_time": "2020-12-27T06:18:20.968954",
          "status": "completed"
        },
        "tags": [],
        "id": "8_lZC6yKpBOO"
      },
      "source": [
        "### 6. Finding all columns with Categorical & Numerical values(to be treated seperately later)\n",
        "\n",
        "This method is called List Comprehension-where a list is created satisfying some condition"
      ]
    },
    {
      "cell_type": "code",
      "metadata": {
        "execution": {
          "iopub.execute_input": "2020-12-27T06:18:21.099218Z",
          "iopub.status.busy": "2020-12-27T06:18:21.098371Z",
          "iopub.status.idle": "2020-12-27T06:18:21.102328Z",
          "shell.execute_reply": "2020-12-27T06:18:21.101516Z"
        },
        "papermill": {
          "duration": 0.05503,
          "end_time": "2020-12-27T06:18:21.102450",
          "exception": false,
          "start_time": "2020-12-27T06:18:21.047420",
          "status": "completed"
        },
        "tags": [],
        "id": "7O4Rdf4IpBOP",
        "outputId": "4f31d958-d902-43dc-b5a6-6a9657350596"
      },
      "source": [
        "cat_train=[cat for cat in train.columns if train[cat].dtype=='object']\n",
        "num_train=[cat for cat in train.columns if train[cat].dtype=='int64' or train[cat].dtype=='float64']\n",
        "\n",
        "cat_train\n",
        "# num_train"
      ],
      "execution_count": null,
      "outputs": [
        {
          "output_type": "execute_result",
          "data": {
            "text/plain": [
              "['MSZoning',\n",
              " 'Street',\n",
              " 'Alley',\n",
              " 'LotShape',\n",
              " 'LandContour',\n",
              " 'Utilities',\n",
              " 'LotConfig',\n",
              " 'LandSlope',\n",
              " 'Neighborhood',\n",
              " 'Condition1',\n",
              " 'Condition2',\n",
              " 'BldgType',\n",
              " 'HouseStyle',\n",
              " 'RoofStyle',\n",
              " 'RoofMatl',\n",
              " 'Exterior1st',\n",
              " 'Exterior2nd',\n",
              " 'MasVnrType',\n",
              " 'ExterQual',\n",
              " 'ExterCond',\n",
              " 'Foundation',\n",
              " 'BsmtQual',\n",
              " 'BsmtCond',\n",
              " 'BsmtExposure',\n",
              " 'BsmtFinType1',\n",
              " 'BsmtFinType2',\n",
              " 'Heating',\n",
              " 'HeatingQC',\n",
              " 'CentralAir',\n",
              " 'Electrical',\n",
              " 'KitchenQual',\n",
              " 'Functional',\n",
              " 'FireplaceQu',\n",
              " 'GarageType',\n",
              " 'GarageFinish',\n",
              " 'GarageQual',\n",
              " 'GarageCond',\n",
              " 'PavedDrive',\n",
              " 'PoolQC',\n",
              " 'Fence',\n",
              " 'MiscFeature',\n",
              " 'SaleType',\n",
              " 'SaleCondition']"
            ]
          },
          "metadata": {
            "tags": []
          },
          "execution_count": 12
        }
      ]
    },
    {
      "cell_type": "code",
      "metadata": {
        "execution": {
          "iopub.execute_input": "2020-12-27T06:18:21.187503Z",
          "iopub.status.busy": "2020-12-27T06:18:21.186724Z",
          "iopub.status.idle": "2020-12-27T06:18:21.201819Z",
          "shell.execute_reply": "2020-12-27T06:18:21.202538Z"
        },
        "papermill": {
          "duration": 0.05933,
          "end_time": "2020-12-27T06:18:21.202711",
          "exception": false,
          "start_time": "2020-12-27T06:18:21.143381",
          "status": "completed"
        },
        "tags": [],
        "id": "i4L7ivC5pBOP",
        "outputId": "ce71cc99-2171-44b7-d3d2-ca4ab6c886e8"
      },
      "source": [
        "cat_test=[cat for cat in test.columns if test[cat].dtype=='object']\n",
        "num_test=[cat for cat in test.columns if test[cat].dtype=='int64' or test[cat].dtype=='float64']\n",
        "cat_test\n",
        "# num_test"
      ],
      "execution_count": null,
      "outputs": [
        {
          "output_type": "execute_result",
          "data": {
            "text/plain": [
              "['Street',\n",
              " 'LotShape',\n",
              " 'LandContour',\n",
              " 'Utilities',\n",
              " 'LotConfig',\n",
              " 'LandSlope',\n",
              " 'Neighborhood',\n",
              " 'Condition1',\n",
              " 'Condition2',\n",
              " 'BldgType',\n",
              " 'HouseStyle',\n",
              " 'RoofStyle',\n",
              " 'RoofMatl',\n",
              " 'Exterior1st',\n",
              " 'Exterior2nd',\n",
              " 'MasVnrType',\n",
              " 'ExterQual',\n",
              " 'ExterCond',\n",
              " 'Foundation',\n",
              " 'BsmtQual',\n",
              " 'BsmtCond',\n",
              " 'BsmtExposure',\n",
              " 'BsmtFinType1',\n",
              " 'BsmtFinType2',\n",
              " 'Heating',\n",
              " 'HeatingQC',\n",
              " 'CentralAir',\n",
              " 'Electrical',\n",
              " 'KitchenQual',\n",
              " 'Functional',\n",
              " 'FireplaceQu',\n",
              " 'GarageType',\n",
              " 'GarageFinish',\n",
              " 'GarageQual',\n",
              " 'GarageCond',\n",
              " 'PavedDrive',\n",
              " 'SaleType',\n",
              " 'SaleCondition']"
            ]
          },
          "metadata": {
            "tags": []
          },
          "execution_count": 13
        }
      ]
    },
    {
      "cell_type": "markdown",
      "metadata": {
        "papermill": {
          "duration": 0.041091,
          "end_time": "2020-12-27T06:18:21.285083",
          "exception": false,
          "start_time": "2020-12-27T06:18:21.243992",
          "status": "completed"
        },
        "tags": [],
        "id": "sgSv6UI7pBOP"
      },
      "source": [
        "### 7. Using the StandardScaler library to Standardize the numeric values\n"
      ]
    },
    {
      "cell_type": "code",
      "metadata": {
        "execution": {
          "iopub.execute_input": "2020-12-27T06:18:21.372408Z",
          "iopub.status.busy": "2020-12-27T06:18:21.371631Z",
          "iopub.status.idle": "2020-12-27T06:18:21.376955Z",
          "shell.execute_reply": "2020-12-27T06:18:21.377580Z"
        },
        "papermill": {
          "duration": 0.051398,
          "end_time": "2020-12-27T06:18:21.377728",
          "exception": false,
          "start_time": "2020-12-27T06:18:21.326330",
          "status": "completed"
        },
        "tags": [],
        "id": "mgQIIKe-pBOP"
      },
      "source": [
        "# from sklearn.preprocessing import StandardScaler\n",
        "# ss= StandardScaler()\n",
        "# train[num_train]= ss.fit_transform(train[num_train])\n",
        "# test[num_test]= ss.fit_transform(test[num_test])\n",
        "# train.head()\n",
        "# test.head()"
      ],
      "execution_count": null,
      "outputs": []
    },
    {
      "cell_type": "markdown",
      "metadata": {
        "papermill": {
          "duration": 0.02761,
          "end_time": "2020-12-27T06:18:21.436337",
          "exception": false,
          "start_time": "2020-12-27T06:18:21.408727",
          "status": "completed"
        },
        "tags": [],
        "id": "HetiWaxPpBOQ"
      },
      "source": [
        "### 8. Handling Categorical Data using Get_Dummies()"
      ]
    },
    {
      "cell_type": "code",
      "metadata": {
        "execution": {
          "iopub.execute_input": "2020-12-27T06:18:21.495621Z",
          "iopub.status.busy": "2020-12-27T06:18:21.495027Z",
          "iopub.status.idle": "2020-12-27T06:18:21.657772Z",
          "shell.execute_reply": "2020-12-27T06:18:21.657025Z"
        },
        "papermill": {
          "duration": 0.193454,
          "end_time": "2020-12-27T06:18:21.657934",
          "exception": false,
          "start_time": "2020-12-27T06:18:21.464480",
          "status": "completed"
        },
        "tags": [],
        "id": "E91lZOkypBOQ",
        "outputId": "91f05cf6-7cc9-44b0-808e-269e15293985"
      },
      "source": [
        "train1= pd.get_dummies(train, columns=cat_train, drop_first= True)\n",
        "test1= pd.get_dummies(test, columns=cat_test, drop_first= True)\n",
        "# train1\n",
        "test1"
      ],
      "execution_count": null,
      "outputs": [
        {
          "output_type": "execute_result",
          "data": {
            "text/html": [
              "<div>\n",
              "<style scoped>\n",
              "    .dataframe tbody tr th:only-of-type {\n",
              "        vertical-align: middle;\n",
              "    }\n",
              "\n",
              "    .dataframe tbody tr th {\n",
              "        vertical-align: top;\n",
              "    }\n",
              "\n",
              "    .dataframe thead th {\n",
              "        text-align: right;\n",
              "    }\n",
              "</style>\n",
              "<table border=\"1\" class=\"dataframe\">\n",
              "  <thead>\n",
              "    <tr style=\"text-align: right;\">\n",
              "      <th></th>\n",
              "      <th>Id</th>\n",
              "      <th>MSSubClass</th>\n",
              "      <th>LotFrontage</th>\n",
              "      <th>LotArea</th>\n",
              "      <th>OverallQual</th>\n",
              "      <th>OverallCond</th>\n",
              "      <th>YearBuilt</th>\n",
              "      <th>YearRemodAdd</th>\n",
              "      <th>MasVnrArea</th>\n",
              "      <th>BsmtFinSF1</th>\n",
              "      <th>...</th>\n",
              "      <th>SaleType_ConLI</th>\n",
              "      <th>SaleType_ConLw</th>\n",
              "      <th>SaleType_New</th>\n",
              "      <th>SaleType_Oth</th>\n",
              "      <th>SaleType_WD</th>\n",
              "      <th>SaleCondition_AdjLand</th>\n",
              "      <th>SaleCondition_Alloca</th>\n",
              "      <th>SaleCondition_Family</th>\n",
              "      <th>SaleCondition_Normal</th>\n",
              "      <th>SaleCondition_Partial</th>\n",
              "    </tr>\n",
              "  </thead>\n",
              "  <tbody>\n",
              "    <tr>\n",
              "      <th>0</th>\n",
              "      <td>1461</td>\n",
              "      <td>20</td>\n",
              "      <td>80.0</td>\n",
              "      <td>11622</td>\n",
              "      <td>5</td>\n",
              "      <td>6</td>\n",
              "      <td>1961</td>\n",
              "      <td>1961</td>\n",
              "      <td>0.0</td>\n",
              "      <td>468.0</td>\n",
              "      <td>...</td>\n",
              "      <td>0</td>\n",
              "      <td>0</td>\n",
              "      <td>0</td>\n",
              "      <td>0</td>\n",
              "      <td>1</td>\n",
              "      <td>0</td>\n",
              "      <td>0</td>\n",
              "      <td>0</td>\n",
              "      <td>1</td>\n",
              "      <td>0</td>\n",
              "    </tr>\n",
              "    <tr>\n",
              "      <th>1</th>\n",
              "      <td>1462</td>\n",
              "      <td>20</td>\n",
              "      <td>81.0</td>\n",
              "      <td>14267</td>\n",
              "      <td>6</td>\n",
              "      <td>6</td>\n",
              "      <td>1958</td>\n",
              "      <td>1958</td>\n",
              "      <td>108.0</td>\n",
              "      <td>923.0</td>\n",
              "      <td>...</td>\n",
              "      <td>0</td>\n",
              "      <td>0</td>\n",
              "      <td>0</td>\n",
              "      <td>0</td>\n",
              "      <td>1</td>\n",
              "      <td>0</td>\n",
              "      <td>0</td>\n",
              "      <td>0</td>\n",
              "      <td>1</td>\n",
              "      <td>0</td>\n",
              "    </tr>\n",
              "    <tr>\n",
              "      <th>2</th>\n",
              "      <td>1463</td>\n",
              "      <td>60</td>\n",
              "      <td>74.0</td>\n",
              "      <td>13830</td>\n",
              "      <td>5</td>\n",
              "      <td>5</td>\n",
              "      <td>1997</td>\n",
              "      <td>1998</td>\n",
              "      <td>0.0</td>\n",
              "      <td>791.0</td>\n",
              "      <td>...</td>\n",
              "      <td>0</td>\n",
              "      <td>0</td>\n",
              "      <td>0</td>\n",
              "      <td>0</td>\n",
              "      <td>1</td>\n",
              "      <td>0</td>\n",
              "      <td>0</td>\n",
              "      <td>0</td>\n",
              "      <td>1</td>\n",
              "      <td>0</td>\n",
              "    </tr>\n",
              "    <tr>\n",
              "      <th>3</th>\n",
              "      <td>1464</td>\n",
              "      <td>60</td>\n",
              "      <td>78.0</td>\n",
              "      <td>9978</td>\n",
              "      <td>6</td>\n",
              "      <td>6</td>\n",
              "      <td>1998</td>\n",
              "      <td>1998</td>\n",
              "      <td>20.0</td>\n",
              "      <td>602.0</td>\n",
              "      <td>...</td>\n",
              "      <td>0</td>\n",
              "      <td>0</td>\n",
              "      <td>0</td>\n",
              "      <td>0</td>\n",
              "      <td>1</td>\n",
              "      <td>0</td>\n",
              "      <td>0</td>\n",
              "      <td>0</td>\n",
              "      <td>1</td>\n",
              "      <td>0</td>\n",
              "    </tr>\n",
              "    <tr>\n",
              "      <th>4</th>\n",
              "      <td>1465</td>\n",
              "      <td>120</td>\n",
              "      <td>43.0</td>\n",
              "      <td>5005</td>\n",
              "      <td>8</td>\n",
              "      <td>5</td>\n",
              "      <td>1992</td>\n",
              "      <td>1992</td>\n",
              "      <td>0.0</td>\n",
              "      <td>263.0</td>\n",
              "      <td>...</td>\n",
              "      <td>0</td>\n",
              "      <td>0</td>\n",
              "      <td>0</td>\n",
              "      <td>0</td>\n",
              "      <td>1</td>\n",
              "      <td>0</td>\n",
              "      <td>0</td>\n",
              "      <td>0</td>\n",
              "      <td>1</td>\n",
              "      <td>0</td>\n",
              "    </tr>\n",
              "    <tr>\n",
              "      <th>...</th>\n",
              "      <td>...</td>\n",
              "      <td>...</td>\n",
              "      <td>...</td>\n",
              "      <td>...</td>\n",
              "      <td>...</td>\n",
              "      <td>...</td>\n",
              "      <td>...</td>\n",
              "      <td>...</td>\n",
              "      <td>...</td>\n",
              "      <td>...</td>\n",
              "      <td>...</td>\n",
              "      <td>...</td>\n",
              "      <td>...</td>\n",
              "      <td>...</td>\n",
              "      <td>...</td>\n",
              "      <td>...</td>\n",
              "      <td>...</td>\n",
              "      <td>...</td>\n",
              "      <td>...</td>\n",
              "      <td>...</td>\n",
              "      <td>...</td>\n",
              "    </tr>\n",
              "    <tr>\n",
              "      <th>1454</th>\n",
              "      <td>2915</td>\n",
              "      <td>160</td>\n",
              "      <td>21.0</td>\n",
              "      <td>1936</td>\n",
              "      <td>4</td>\n",
              "      <td>7</td>\n",
              "      <td>1970</td>\n",
              "      <td>1970</td>\n",
              "      <td>0.0</td>\n",
              "      <td>0.0</td>\n",
              "      <td>...</td>\n",
              "      <td>0</td>\n",
              "      <td>0</td>\n",
              "      <td>0</td>\n",
              "      <td>0</td>\n",
              "      <td>1</td>\n",
              "      <td>0</td>\n",
              "      <td>0</td>\n",
              "      <td>0</td>\n",
              "      <td>1</td>\n",
              "      <td>0</td>\n",
              "    </tr>\n",
              "    <tr>\n",
              "      <th>1455</th>\n",
              "      <td>2916</td>\n",
              "      <td>160</td>\n",
              "      <td>21.0</td>\n",
              "      <td>1894</td>\n",
              "      <td>4</td>\n",
              "      <td>5</td>\n",
              "      <td>1970</td>\n",
              "      <td>1970</td>\n",
              "      <td>0.0</td>\n",
              "      <td>252.0</td>\n",
              "      <td>...</td>\n",
              "      <td>0</td>\n",
              "      <td>0</td>\n",
              "      <td>0</td>\n",
              "      <td>0</td>\n",
              "      <td>1</td>\n",
              "      <td>0</td>\n",
              "      <td>0</td>\n",
              "      <td>0</td>\n",
              "      <td>0</td>\n",
              "      <td>0</td>\n",
              "    </tr>\n",
              "    <tr>\n",
              "      <th>1456</th>\n",
              "      <td>2917</td>\n",
              "      <td>20</td>\n",
              "      <td>160.0</td>\n",
              "      <td>20000</td>\n",
              "      <td>5</td>\n",
              "      <td>7</td>\n",
              "      <td>1960</td>\n",
              "      <td>1996</td>\n",
              "      <td>0.0</td>\n",
              "      <td>1224.0</td>\n",
              "      <td>...</td>\n",
              "      <td>0</td>\n",
              "      <td>0</td>\n",
              "      <td>0</td>\n",
              "      <td>0</td>\n",
              "      <td>1</td>\n",
              "      <td>0</td>\n",
              "      <td>0</td>\n",
              "      <td>0</td>\n",
              "      <td>0</td>\n",
              "      <td>0</td>\n",
              "    </tr>\n",
              "    <tr>\n",
              "      <th>1457</th>\n",
              "      <td>2918</td>\n",
              "      <td>85</td>\n",
              "      <td>62.0</td>\n",
              "      <td>10441</td>\n",
              "      <td>5</td>\n",
              "      <td>5</td>\n",
              "      <td>1992</td>\n",
              "      <td>1992</td>\n",
              "      <td>0.0</td>\n",
              "      <td>337.0</td>\n",
              "      <td>...</td>\n",
              "      <td>0</td>\n",
              "      <td>0</td>\n",
              "      <td>0</td>\n",
              "      <td>0</td>\n",
              "      <td>1</td>\n",
              "      <td>0</td>\n",
              "      <td>0</td>\n",
              "      <td>0</td>\n",
              "      <td>1</td>\n",
              "      <td>0</td>\n",
              "    </tr>\n",
              "    <tr>\n",
              "      <th>1458</th>\n",
              "      <td>2919</td>\n",
              "      <td>60</td>\n",
              "      <td>74.0</td>\n",
              "      <td>9627</td>\n",
              "      <td>7</td>\n",
              "      <td>5</td>\n",
              "      <td>1993</td>\n",
              "      <td>1994</td>\n",
              "      <td>94.0</td>\n",
              "      <td>758.0</td>\n",
              "      <td>...</td>\n",
              "      <td>0</td>\n",
              "      <td>0</td>\n",
              "      <td>0</td>\n",
              "      <td>0</td>\n",
              "      <td>1</td>\n",
              "      <td>0</td>\n",
              "      <td>0</td>\n",
              "      <td>0</td>\n",
              "      <td>1</td>\n",
              "      <td>0</td>\n",
              "    </tr>\n",
              "  </tbody>\n",
              "</table>\n",
              "<p>1459 rows × 217 columns</p>\n",
              "</div>"
            ],
            "text/plain": [
              "        Id  MSSubClass  LotFrontage  LotArea  OverallQual  OverallCond  \\\n",
              "0     1461          20         80.0    11622            5            6   \n",
              "1     1462          20         81.0    14267            6            6   \n",
              "2     1463          60         74.0    13830            5            5   \n",
              "3     1464          60         78.0     9978            6            6   \n",
              "4     1465         120         43.0     5005            8            5   \n",
              "...    ...         ...          ...      ...          ...          ...   \n",
              "1454  2915         160         21.0     1936            4            7   \n",
              "1455  2916         160         21.0     1894            4            5   \n",
              "1456  2917          20        160.0    20000            5            7   \n",
              "1457  2918          85         62.0    10441            5            5   \n",
              "1458  2919          60         74.0     9627            7            5   \n",
              "\n",
              "      YearBuilt  YearRemodAdd  MasVnrArea  BsmtFinSF1  ...  SaleType_ConLI  \\\n",
              "0          1961          1961         0.0       468.0  ...               0   \n",
              "1          1958          1958       108.0       923.0  ...               0   \n",
              "2          1997          1998         0.0       791.0  ...               0   \n",
              "3          1998          1998        20.0       602.0  ...               0   \n",
              "4          1992          1992         0.0       263.0  ...               0   \n",
              "...         ...           ...         ...         ...  ...             ...   \n",
              "1454       1970          1970         0.0         0.0  ...               0   \n",
              "1455       1970          1970         0.0       252.0  ...               0   \n",
              "1456       1960          1996         0.0      1224.0  ...               0   \n",
              "1457       1992          1992         0.0       337.0  ...               0   \n",
              "1458       1993          1994        94.0       758.0  ...               0   \n",
              "\n",
              "      SaleType_ConLw  SaleType_New  SaleType_Oth  SaleType_WD  \\\n",
              "0                  0             0             0            1   \n",
              "1                  0             0             0            1   \n",
              "2                  0             0             0            1   \n",
              "3                  0             0             0            1   \n",
              "4                  0             0             0            1   \n",
              "...              ...           ...           ...          ...   \n",
              "1454               0             0             0            1   \n",
              "1455               0             0             0            1   \n",
              "1456               0             0             0            1   \n",
              "1457               0             0             0            1   \n",
              "1458               0             0             0            1   \n",
              "\n",
              "      SaleCondition_AdjLand  SaleCondition_Alloca  SaleCondition_Family  \\\n",
              "0                         0                     0                     0   \n",
              "1                         0                     0                     0   \n",
              "2                         0                     0                     0   \n",
              "3                         0                     0                     0   \n",
              "4                         0                     0                     0   \n",
              "...                     ...                   ...                   ...   \n",
              "1454                      0                     0                     0   \n",
              "1455                      0                     0                     0   \n",
              "1456                      0                     0                     0   \n",
              "1457                      0                     0                     0   \n",
              "1458                      0                     0                     0   \n",
              "\n",
              "      SaleCondition_Normal  SaleCondition_Partial  \n",
              "0                        1                      0  \n",
              "1                        1                      0  \n",
              "2                        1                      0  \n",
              "3                        1                      0  \n",
              "4                        1                      0  \n",
              "...                    ...                    ...  \n",
              "1454                     1                      0  \n",
              "1455                     0                      0  \n",
              "1456                     0                      0  \n",
              "1457                     1                      0  \n",
              "1458                     1                      0  \n",
              "\n",
              "[1459 rows x 217 columns]"
            ]
          },
          "metadata": {
            "tags": []
          },
          "execution_count": 15
        }
      ]
    },
    {
      "cell_type": "markdown",
      "metadata": {
        "papermill": {
          "duration": 0.042874,
          "end_time": "2020-12-27T06:18:21.746340",
          "exception": false,
          "start_time": "2020-12-27T06:18:21.703466",
          "status": "completed"
        },
        "tags": [],
        "id": "mDmJse1upBOR"
      },
      "source": [
        "### 9.Concatenating the Original Dataset & the One after creating Dummies(get_dummies() creates a new DF containing JUST the dummies, MOST People get wrong here)"
      ]
    },
    {
      "cell_type": "code",
      "metadata": {
        "execution": {
          "iopub.execute_input": "2020-12-27T06:18:21.839575Z",
          "iopub.status.busy": "2020-12-27T06:18:21.838415Z",
          "iopub.status.idle": "2020-12-27T06:18:21.888768Z",
          "shell.execute_reply": "2020-12-27T06:18:21.889464Z"
        },
        "papermill": {
          "duration": 0.100256,
          "end_time": "2020-12-27T06:18:21.889609",
          "exception": false,
          "start_time": "2020-12-27T06:18:21.789353",
          "status": "completed"
        },
        "tags": [],
        "id": "MuKQR2n8pBOR",
        "outputId": "6fd4842c-2d19-4a30-e822-7ab4f7de1e2e"
      },
      "source": [
        "train2=pd.concat([train,train1],axis=1)\n",
        "test2=pd.concat([test,test1],axis=1)\n",
        "test2"
      ],
      "execution_count": null,
      "outputs": [
        {
          "output_type": "execute_result",
          "data": {
            "text/html": [
              "<div>\n",
              "<style scoped>\n",
              "    .dataframe tbody tr th:only-of-type {\n",
              "        vertical-align: middle;\n",
              "    }\n",
              "\n",
              "    .dataframe tbody tr th {\n",
              "        vertical-align: top;\n",
              "    }\n",
              "\n",
              "    .dataframe thead th {\n",
              "        text-align: right;\n",
              "    }\n",
              "</style>\n",
              "<table border=\"1\" class=\"dataframe\">\n",
              "  <thead>\n",
              "    <tr style=\"text-align: right;\">\n",
              "      <th></th>\n",
              "      <th>Id</th>\n",
              "      <th>MSSubClass</th>\n",
              "      <th>LotFrontage</th>\n",
              "      <th>LotArea</th>\n",
              "      <th>Street</th>\n",
              "      <th>LotShape</th>\n",
              "      <th>LandContour</th>\n",
              "      <th>Utilities</th>\n",
              "      <th>LotConfig</th>\n",
              "      <th>LandSlope</th>\n",
              "      <th>...</th>\n",
              "      <th>SaleType_ConLI</th>\n",
              "      <th>SaleType_ConLw</th>\n",
              "      <th>SaleType_New</th>\n",
              "      <th>SaleType_Oth</th>\n",
              "      <th>SaleType_WD</th>\n",
              "      <th>SaleCondition_AdjLand</th>\n",
              "      <th>SaleCondition_Alloca</th>\n",
              "      <th>SaleCondition_Family</th>\n",
              "      <th>SaleCondition_Normal</th>\n",
              "      <th>SaleCondition_Partial</th>\n",
              "    </tr>\n",
              "  </thead>\n",
              "  <tbody>\n",
              "    <tr>\n",
              "      <th>0</th>\n",
              "      <td>1461</td>\n",
              "      <td>20</td>\n",
              "      <td>80.0</td>\n",
              "      <td>11622</td>\n",
              "      <td>Pave</td>\n",
              "      <td>Reg</td>\n",
              "      <td>Lvl</td>\n",
              "      <td>AllPub</td>\n",
              "      <td>Inside</td>\n",
              "      <td>Gtl</td>\n",
              "      <td>...</td>\n",
              "      <td>0</td>\n",
              "      <td>0</td>\n",
              "      <td>0</td>\n",
              "      <td>0</td>\n",
              "      <td>1</td>\n",
              "      <td>0</td>\n",
              "      <td>0</td>\n",
              "      <td>0</td>\n",
              "      <td>1</td>\n",
              "      <td>0</td>\n",
              "    </tr>\n",
              "    <tr>\n",
              "      <th>1</th>\n",
              "      <td>1462</td>\n",
              "      <td>20</td>\n",
              "      <td>81.0</td>\n",
              "      <td>14267</td>\n",
              "      <td>Pave</td>\n",
              "      <td>IR1</td>\n",
              "      <td>Lvl</td>\n",
              "      <td>AllPub</td>\n",
              "      <td>Corner</td>\n",
              "      <td>Gtl</td>\n",
              "      <td>...</td>\n",
              "      <td>0</td>\n",
              "      <td>0</td>\n",
              "      <td>0</td>\n",
              "      <td>0</td>\n",
              "      <td>1</td>\n",
              "      <td>0</td>\n",
              "      <td>0</td>\n",
              "      <td>0</td>\n",
              "      <td>1</td>\n",
              "      <td>0</td>\n",
              "    </tr>\n",
              "    <tr>\n",
              "      <th>2</th>\n",
              "      <td>1463</td>\n",
              "      <td>60</td>\n",
              "      <td>74.0</td>\n",
              "      <td>13830</td>\n",
              "      <td>Pave</td>\n",
              "      <td>IR1</td>\n",
              "      <td>Lvl</td>\n",
              "      <td>AllPub</td>\n",
              "      <td>Inside</td>\n",
              "      <td>Gtl</td>\n",
              "      <td>...</td>\n",
              "      <td>0</td>\n",
              "      <td>0</td>\n",
              "      <td>0</td>\n",
              "      <td>0</td>\n",
              "      <td>1</td>\n",
              "      <td>0</td>\n",
              "      <td>0</td>\n",
              "      <td>0</td>\n",
              "      <td>1</td>\n",
              "      <td>0</td>\n",
              "    </tr>\n",
              "    <tr>\n",
              "      <th>3</th>\n",
              "      <td>1464</td>\n",
              "      <td>60</td>\n",
              "      <td>78.0</td>\n",
              "      <td>9978</td>\n",
              "      <td>Pave</td>\n",
              "      <td>IR1</td>\n",
              "      <td>Lvl</td>\n",
              "      <td>AllPub</td>\n",
              "      <td>Inside</td>\n",
              "      <td>Gtl</td>\n",
              "      <td>...</td>\n",
              "      <td>0</td>\n",
              "      <td>0</td>\n",
              "      <td>0</td>\n",
              "      <td>0</td>\n",
              "      <td>1</td>\n",
              "      <td>0</td>\n",
              "      <td>0</td>\n",
              "      <td>0</td>\n",
              "      <td>1</td>\n",
              "      <td>0</td>\n",
              "    </tr>\n",
              "    <tr>\n",
              "      <th>4</th>\n",
              "      <td>1465</td>\n",
              "      <td>120</td>\n",
              "      <td>43.0</td>\n",
              "      <td>5005</td>\n",
              "      <td>Pave</td>\n",
              "      <td>IR1</td>\n",
              "      <td>HLS</td>\n",
              "      <td>AllPub</td>\n",
              "      <td>Inside</td>\n",
              "      <td>Gtl</td>\n",
              "      <td>...</td>\n",
              "      <td>0</td>\n",
              "      <td>0</td>\n",
              "      <td>0</td>\n",
              "      <td>0</td>\n",
              "      <td>1</td>\n",
              "      <td>0</td>\n",
              "      <td>0</td>\n",
              "      <td>0</td>\n",
              "      <td>1</td>\n",
              "      <td>0</td>\n",
              "    </tr>\n",
              "    <tr>\n",
              "      <th>...</th>\n",
              "      <td>...</td>\n",
              "      <td>...</td>\n",
              "      <td>...</td>\n",
              "      <td>...</td>\n",
              "      <td>...</td>\n",
              "      <td>...</td>\n",
              "      <td>...</td>\n",
              "      <td>...</td>\n",
              "      <td>...</td>\n",
              "      <td>...</td>\n",
              "      <td>...</td>\n",
              "      <td>...</td>\n",
              "      <td>...</td>\n",
              "      <td>...</td>\n",
              "      <td>...</td>\n",
              "      <td>...</td>\n",
              "      <td>...</td>\n",
              "      <td>...</td>\n",
              "      <td>...</td>\n",
              "      <td>...</td>\n",
              "      <td>...</td>\n",
              "    </tr>\n",
              "    <tr>\n",
              "      <th>1454</th>\n",
              "      <td>2915</td>\n",
              "      <td>160</td>\n",
              "      <td>21.0</td>\n",
              "      <td>1936</td>\n",
              "      <td>Pave</td>\n",
              "      <td>Reg</td>\n",
              "      <td>Lvl</td>\n",
              "      <td>AllPub</td>\n",
              "      <td>Inside</td>\n",
              "      <td>Gtl</td>\n",
              "      <td>...</td>\n",
              "      <td>0</td>\n",
              "      <td>0</td>\n",
              "      <td>0</td>\n",
              "      <td>0</td>\n",
              "      <td>1</td>\n",
              "      <td>0</td>\n",
              "      <td>0</td>\n",
              "      <td>0</td>\n",
              "      <td>1</td>\n",
              "      <td>0</td>\n",
              "    </tr>\n",
              "    <tr>\n",
              "      <th>1455</th>\n",
              "      <td>2916</td>\n",
              "      <td>160</td>\n",
              "      <td>21.0</td>\n",
              "      <td>1894</td>\n",
              "      <td>Pave</td>\n",
              "      <td>Reg</td>\n",
              "      <td>Lvl</td>\n",
              "      <td>AllPub</td>\n",
              "      <td>Inside</td>\n",
              "      <td>Gtl</td>\n",
              "      <td>...</td>\n",
              "      <td>0</td>\n",
              "      <td>0</td>\n",
              "      <td>0</td>\n",
              "      <td>0</td>\n",
              "      <td>1</td>\n",
              "      <td>0</td>\n",
              "      <td>0</td>\n",
              "      <td>0</td>\n",
              "      <td>0</td>\n",
              "      <td>0</td>\n",
              "    </tr>\n",
              "    <tr>\n",
              "      <th>1456</th>\n",
              "      <td>2917</td>\n",
              "      <td>20</td>\n",
              "      <td>160.0</td>\n",
              "      <td>20000</td>\n",
              "      <td>Pave</td>\n",
              "      <td>Reg</td>\n",
              "      <td>Lvl</td>\n",
              "      <td>AllPub</td>\n",
              "      <td>Inside</td>\n",
              "      <td>Gtl</td>\n",
              "      <td>...</td>\n",
              "      <td>0</td>\n",
              "      <td>0</td>\n",
              "      <td>0</td>\n",
              "      <td>0</td>\n",
              "      <td>1</td>\n",
              "      <td>0</td>\n",
              "      <td>0</td>\n",
              "      <td>0</td>\n",
              "      <td>0</td>\n",
              "      <td>0</td>\n",
              "    </tr>\n",
              "    <tr>\n",
              "      <th>1457</th>\n",
              "      <td>2918</td>\n",
              "      <td>85</td>\n",
              "      <td>62.0</td>\n",
              "      <td>10441</td>\n",
              "      <td>Pave</td>\n",
              "      <td>Reg</td>\n",
              "      <td>Lvl</td>\n",
              "      <td>AllPub</td>\n",
              "      <td>Inside</td>\n",
              "      <td>Gtl</td>\n",
              "      <td>...</td>\n",
              "      <td>0</td>\n",
              "      <td>0</td>\n",
              "      <td>0</td>\n",
              "      <td>0</td>\n",
              "      <td>1</td>\n",
              "      <td>0</td>\n",
              "      <td>0</td>\n",
              "      <td>0</td>\n",
              "      <td>1</td>\n",
              "      <td>0</td>\n",
              "    </tr>\n",
              "    <tr>\n",
              "      <th>1458</th>\n",
              "      <td>2919</td>\n",
              "      <td>60</td>\n",
              "      <td>74.0</td>\n",
              "      <td>9627</td>\n",
              "      <td>Pave</td>\n",
              "      <td>Reg</td>\n",
              "      <td>Lvl</td>\n",
              "      <td>AllPub</td>\n",
              "      <td>Inside</td>\n",
              "      <td>Mod</td>\n",
              "      <td>...</td>\n",
              "      <td>0</td>\n",
              "      <td>0</td>\n",
              "      <td>0</td>\n",
              "      <td>0</td>\n",
              "      <td>1</td>\n",
              "      <td>0</td>\n",
              "      <td>0</td>\n",
              "      <td>0</td>\n",
              "      <td>1</td>\n",
              "      <td>0</td>\n",
              "    </tr>\n",
              "  </tbody>\n",
              "</table>\n",
              "<p>1459 rows × 292 columns</p>\n",
              "</div>"
            ],
            "text/plain": [
              "        Id  MSSubClass  LotFrontage  LotArea Street LotShape LandContour  \\\n",
              "0     1461          20         80.0    11622   Pave      Reg         Lvl   \n",
              "1     1462          20         81.0    14267   Pave      IR1         Lvl   \n",
              "2     1463          60         74.0    13830   Pave      IR1         Lvl   \n",
              "3     1464          60         78.0     9978   Pave      IR1         Lvl   \n",
              "4     1465         120         43.0     5005   Pave      IR1         HLS   \n",
              "...    ...         ...          ...      ...    ...      ...         ...   \n",
              "1454  2915         160         21.0     1936   Pave      Reg         Lvl   \n",
              "1455  2916         160         21.0     1894   Pave      Reg         Lvl   \n",
              "1456  2917          20        160.0    20000   Pave      Reg         Lvl   \n",
              "1457  2918          85         62.0    10441   Pave      Reg         Lvl   \n",
              "1458  2919          60         74.0     9627   Pave      Reg         Lvl   \n",
              "\n",
              "     Utilities LotConfig LandSlope  ... SaleType_ConLI SaleType_ConLw  \\\n",
              "0       AllPub    Inside       Gtl  ...              0              0   \n",
              "1       AllPub    Corner       Gtl  ...              0              0   \n",
              "2       AllPub    Inside       Gtl  ...              0              0   \n",
              "3       AllPub    Inside       Gtl  ...              0              0   \n",
              "4       AllPub    Inside       Gtl  ...              0              0   \n",
              "...        ...       ...       ...  ...            ...            ...   \n",
              "1454    AllPub    Inside       Gtl  ...              0              0   \n",
              "1455    AllPub    Inside       Gtl  ...              0              0   \n",
              "1456    AllPub    Inside       Gtl  ...              0              0   \n",
              "1457    AllPub    Inside       Gtl  ...              0              0   \n",
              "1458    AllPub    Inside       Mod  ...              0              0   \n",
              "\n",
              "     SaleType_New SaleType_Oth SaleType_WD  SaleCondition_AdjLand  \\\n",
              "0               0            0           1                      0   \n",
              "1               0            0           1                      0   \n",
              "2               0            0           1                      0   \n",
              "3               0            0           1                      0   \n",
              "4               0            0           1                      0   \n",
              "...           ...          ...         ...                    ...   \n",
              "1454            0            0           1                      0   \n",
              "1455            0            0           1                      0   \n",
              "1456            0            0           1                      0   \n",
              "1457            0            0           1                      0   \n",
              "1458            0            0           1                      0   \n",
              "\n",
              "      SaleCondition_Alloca  SaleCondition_Family  SaleCondition_Normal  \\\n",
              "0                        0                     0                     1   \n",
              "1                        0                     0                     1   \n",
              "2                        0                     0                     1   \n",
              "3                        0                     0                     1   \n",
              "4                        0                     0                     1   \n",
              "...                    ...                   ...                   ...   \n",
              "1454                     0                     0                     1   \n",
              "1455                     0                     0                     0   \n",
              "1456                     0                     0                     0   \n",
              "1457                     0                     0                     1   \n",
              "1458                     0                     0                     1   \n",
              "\n",
              "     SaleCondition_Partial  \n",
              "0                        0  \n",
              "1                        0  \n",
              "2                        0  \n",
              "3                        0  \n",
              "4                        0  \n",
              "...                    ...  \n",
              "1454                     0  \n",
              "1455                     0  \n",
              "1456                     0  \n",
              "1457                     0  \n",
              "1458                     0  \n",
              "\n",
              "[1459 rows x 292 columns]"
            ]
          },
          "metadata": {
            "tags": []
          },
          "execution_count": 16
        }
      ]
    },
    {
      "cell_type": "markdown",
      "metadata": {
        "papermill": {
          "duration": 0.043305,
          "end_time": "2020-12-27T06:18:21.976971",
          "exception": false,
          "start_time": "2020-12-27T06:18:21.933666",
          "status": "completed"
        },
        "tags": [],
        "id": "zTccywAcpBOR"
      },
      "source": [
        "### 10. Dropping the columns already concatenated after Get_Dummies()"
      ]
    },
    {
      "cell_type": "code",
      "metadata": {
        "execution": {
          "iopub.execute_input": "2020-12-27T06:18:22.068992Z",
          "iopub.status.busy": "2020-12-27T06:18:22.068112Z",
          "iopub.status.idle": "2020-12-27T06:18:22.088868Z",
          "shell.execute_reply": "2020-12-27T06:18:22.088270Z"
        },
        "papermill": {
          "duration": 0.06818,
          "end_time": "2020-12-27T06:18:22.089009",
          "exception": false,
          "start_time": "2020-12-27T06:18:22.020829",
          "status": "completed"
        },
        "tags": [],
        "id": "NBw2KLGvpBOS",
        "outputId": "6864d5c6-0ba0-4764-b46b-19d0d0908124"
      },
      "source": [
        "train=train2.drop(cat_train,axis=1)\n",
        "test=test2.drop(cat_test,axis=1)\n",
        "# test123=test.copy()\n",
        "# train\n",
        "id=test['Id'].iloc[:,1]\n",
        "id"
      ],
      "execution_count": null,
      "outputs": [
        {
          "output_type": "execute_result",
          "data": {
            "text/plain": [
              "0       1461\n",
              "1       1462\n",
              "2       1463\n",
              "3       1464\n",
              "4       1465\n",
              "        ... \n",
              "1454    2915\n",
              "1455    2916\n",
              "1456    2917\n",
              "1457    2918\n",
              "1458    2919\n",
              "Name: Id, Length: 1459, dtype: int64"
            ]
          },
          "metadata": {
            "tags": []
          },
          "execution_count": 17
        }
      ]
    },
    {
      "cell_type": "markdown",
      "metadata": {
        "papermill": {
          "duration": 0.03076,
          "end_time": "2020-12-27T06:18:22.151156",
          "exception": false,
          "start_time": "2020-12-27T06:18:22.120396",
          "status": "completed"
        },
        "tags": [],
        "id": "7mBDVPiVpBOS"
      },
      "source": [
        "### 11. Splitting X & y"
      ]
    },
    {
      "cell_type": "code",
      "metadata": {
        "execution": {
          "iopub.execute_input": "2020-12-27T06:18:22.224605Z",
          "iopub.status.busy": "2020-12-27T06:18:22.223599Z",
          "iopub.status.idle": "2020-12-27T06:18:22.228681Z",
          "shell.execute_reply": "2020-12-27T06:18:22.227944Z"
        },
        "papermill": {
          "duration": 0.046014,
          "end_time": "2020-12-27T06:18:22.228814",
          "exception": false,
          "start_time": "2020-12-27T06:18:22.182800",
          "status": "completed"
        },
        "tags": [],
        "id": "U66pFw1fpBOS"
      },
      "source": [
        "y=train['SalePrice'].iloc[:,1]\n",
        "X=train.drop(['Id','SalePrice'],axis=1)"
      ],
      "execution_count": null,
      "outputs": []
    },
    {
      "cell_type": "markdown",
      "metadata": {
        "papermill": {
          "duration": 0.044663,
          "end_time": "2020-12-27T06:18:22.318993",
          "exception": false,
          "start_time": "2020-12-27T06:18:22.274330",
          "status": "completed"
        },
        "tags": [],
        "id": "bp-F-JeLpBOS"
      },
      "source": [
        "### 12. Imputing the missing values"
      ]
    },
    {
      "cell_type": "code",
      "metadata": {
        "execution": {
          "iopub.execute_input": "2020-12-27T06:18:22.413332Z",
          "iopub.status.busy": "2020-12-27T06:18:22.412474Z",
          "iopub.status.idle": "2020-12-27T06:18:22.744565Z",
          "shell.execute_reply": "2020-12-27T06:18:22.743611Z"
        },
        "papermill": {
          "duration": 0.380378,
          "end_time": "2020-12-27T06:18:22.744736",
          "exception": false,
          "start_time": "2020-12-27T06:18:22.364358",
          "status": "completed"
        },
        "tags": [],
        "id": "602mLVxapBOS",
        "outputId": "6e9f127b-6555-41f8-fcbe-9cc72ddb59a8"
      },
      "source": [
        "from sklearn.impute import SimpleImputer\n",
        "si=SimpleImputer()\n",
        "X=si.fit_transform(X)\n",
        "test=si.fit_transform(test)\n",
        "# X\n",
        "test"
      ],
      "execution_count": null,
      "outputs": [
        {
          "output_type": "execute_result",
          "data": {
            "text/plain": [
              "array([[1.461e+03, 2.000e+01, 8.000e+01, ..., 0.000e+00, 1.000e+00,\n",
              "        0.000e+00],\n",
              "       [1.462e+03, 2.000e+01, 8.100e+01, ..., 0.000e+00, 1.000e+00,\n",
              "        0.000e+00],\n",
              "       [1.463e+03, 6.000e+01, 7.400e+01, ..., 0.000e+00, 1.000e+00,\n",
              "        0.000e+00],\n",
              "       ...,\n",
              "       [2.917e+03, 2.000e+01, 1.600e+02, ..., 0.000e+00, 0.000e+00,\n",
              "        0.000e+00],\n",
              "       [2.918e+03, 8.500e+01, 6.200e+01, ..., 0.000e+00, 1.000e+00,\n",
              "        0.000e+00],\n",
              "       [2.919e+03, 6.000e+01, 7.400e+01, ..., 0.000e+00, 1.000e+00,\n",
              "        0.000e+00]])"
            ]
          },
          "metadata": {
            "tags": []
          },
          "execution_count": 19
        }
      ]
    },
    {
      "cell_type": "markdown",
      "metadata": {
        "papermill": {
          "duration": 0.050655,
          "end_time": "2020-12-27T06:18:22.854098",
          "exception": false,
          "start_time": "2020-12-27T06:18:22.803443",
          "status": "completed"
        },
        "tags": [],
        "id": "je7VriB8pBOS"
      },
      "source": [
        "### 13. Doing the Train_Test_Split"
      ]
    },
    {
      "cell_type": "code",
      "metadata": {
        "execution": {
          "iopub.execute_input": "2020-12-27T06:18:22.953440Z",
          "iopub.status.busy": "2020-12-27T06:18:22.952332Z",
          "iopub.status.idle": "2020-12-27T06:18:22.964487Z",
          "shell.execute_reply": "2020-12-27T06:18:22.965324Z"
        },
        "papermill": {
          "duration": 0.063861,
          "end_time": "2020-12-27T06:18:22.965483",
          "exception": false,
          "start_time": "2020-12-27T06:18:22.901622",
          "status": "completed"
        },
        "tags": [],
        "id": "51bIWCzipBOT",
        "outputId": "fd62fc9f-81e7-4030-d0b4-5d533405e037"
      },
      "source": [
        "from sklearn.model_selection import train_test_split\n",
        "X_train, X_test, y_train, y_test = train_test_split(X, y, test_size=0.25)\n",
        "y_train"
      ],
      "execution_count": null,
      "outputs": [
        {
          "output_type": "execute_result",
          "data": {
            "text/plain": [
              "598     217500\n",
              "1054    255000\n",
              "109     190000\n",
              "37      153000\n",
              "30       40000\n",
              "         ...  \n",
              "900     110000\n",
              "1415    175900\n",
              "502     140000\n",
              "696      89000\n",
              "592     138000\n",
              "Name: SalePrice, Length: 1095, dtype: int64"
            ]
          },
          "metadata": {
            "tags": []
          },
          "execution_count": 20
        }
      ]
    },
    {
      "cell_type": "markdown",
      "metadata": {
        "id": "VTDpRgqfpBOT"
      },
      "source": [
        "### 14-1. Using Linear regression to fit the Data"
      ]
    },
    {
      "cell_type": "code",
      "metadata": {
        "id": "hPVbsFzhpBOT",
        "outputId": "3ef602fc-8e32-415f-99e4-e8a06cdf5546"
      },
      "source": [
        "from sklearn.linear_model import LinearRegression\n",
        "reg_lin=LinearRegression()\n",
        "reg_lin.fit(X_train,y_train)"
      ],
      "execution_count": null,
      "outputs": [
        {
          "output_type": "execute_result",
          "data": {
            "text/plain": [
              "LinearRegression()"
            ]
          },
          "metadata": {
            "tags": []
          },
          "execution_count": 24
        }
      ]
    },
    {
      "cell_type": "markdown",
      "metadata": {
        "papermill": {
          "duration": 0.047549,
          "end_time": "2020-12-27T06:18:23.061238",
          "exception": false,
          "start_time": "2020-12-27T06:18:23.013689",
          "status": "completed"
        },
        "tags": [],
        "id": "IgfciRT5pBOT"
      },
      "source": [
        "### 14-2. Using Gradient Boosting Regressor to fit the Data"
      ]
    },
    {
      "cell_type": "code",
      "metadata": {
        "execution": {
          "iopub.execute_input": "2020-12-27T06:18:23.160033Z",
          "iopub.status.busy": "2020-12-27T06:18:23.158935Z",
          "iopub.status.idle": "2020-12-27T06:18:24.895318Z",
          "shell.execute_reply": "2020-12-27T06:18:24.894214Z"
        },
        "papermill": {
          "duration": 1.786561,
          "end_time": "2020-12-27T06:18:24.895449",
          "exception": false,
          "start_time": "2020-12-27T06:18:23.108888",
          "status": "completed"
        },
        "tags": [],
        "id": "XP_emDeapBOT",
        "outputId": "2c085eed-79fa-41de-a677-af962814df3a"
      },
      "source": [
        "from sklearn.ensemble import GradientBoostingRegressor\n",
        "reg=GradientBoostingRegressor()\n",
        "reg.fit(X_train,y_train)"
      ],
      "execution_count": null,
      "outputs": [
        {
          "output_type": "execute_result",
          "data": {
            "text/plain": [
              "GradientBoostingRegressor()"
            ]
          },
          "metadata": {
            "tags": []
          },
          "execution_count": 21
        }
      ]
    },
    {
      "cell_type": "markdown",
      "metadata": {
        "id": "oAClotVrpBOT"
      },
      "source": [
        "### 15-1. Using the Trained Model to Predict - Linear Regression"
      ]
    },
    {
      "cell_type": "code",
      "metadata": {
        "id": "LZsNH9YlpBOU",
        "outputId": "6f665da1-7dd8-43bd-faf0-8ff2e4a7093e"
      },
      "source": [
        "predicted = reg_lin.predict(X_test)\n",
        "from sklearn.metrics import mean_absolute_error, mean_squared_error\n",
        "mae_sklearn = mean_absolute_error(y_test, predicted)\n",
        "print('MAE:', mae_sklearn)\n",
        "mse_sklearn = mean_squared_error(y_test, predicted)\n",
        "print('MSE:', mse_sklearn)\n",
        "print('RMSE:', np.sqrt(mse_sklearn))"
      ],
      "execution_count": null,
      "outputs": [
        {
          "output_type": "stream",
          "text": [
            "MAE: 3736718.1807918935\n",
            "MSE: 1671487055068264.5\n",
            "RMSE: 40883823.88021287\n"
          ],
          "name": "stdout"
        }
      ]
    },
    {
      "cell_type": "markdown",
      "metadata": {
        "papermill": {
          "duration": 0.048059,
          "end_time": "2020-12-27T06:18:24.991580",
          "exception": false,
          "start_time": "2020-12-27T06:18:24.943521",
          "status": "completed"
        },
        "tags": [],
        "id": "Wd3zZU0IpBOU"
      },
      "source": [
        "### 15-2. Using the Trained Model to Predict - Gradient Boosting Regressor"
      ]
    },
    {
      "cell_type": "code",
      "metadata": {
        "execution": {
          "iopub.execute_input": "2020-12-27T06:18:25.094462Z",
          "iopub.status.busy": "2020-12-27T06:18:25.093652Z",
          "iopub.status.idle": "2020-12-27T06:18:25.101989Z",
          "shell.execute_reply": "2020-12-27T06:18:25.102660Z"
        },
        "papermill": {
          "duration": 0.062781,
          "end_time": "2020-12-27T06:18:25.102812",
          "exception": false,
          "start_time": "2020-12-27T06:18:25.040031",
          "status": "completed"
        },
        "tags": [],
        "id": "yBBDjiRypBOU",
        "outputId": "68991129-ac4d-4faf-bb63-5ab2ef4a7b6e"
      },
      "source": [
        "# Result without Hyperparameter\n",
        "predictions= reg.predict(X_test)\n",
        "from sklearn.metrics import mean_absolute_error, mean_squared_error\n",
        "mae_sklearn = mean_absolute_error(y_test, predictions)\n",
        "print('MAE:', mae_sklearn)\n",
        "mse_sklearn = mean_squared_error(y_test, predictions)\n",
        "print('MSE:', mse_sklearn)\n",
        "print('RMSE:', np.sqrt(mse_sklearn))"
      ],
      "execution_count": null,
      "outputs": [
        {
          "output_type": "stream",
          "text": [
            "MAE: 15114.609479584964\n",
            "MSE: 488054266.5173537\n",
            "RMSE: 22091.950265138516\n"
          ],
          "name": "stdout"
        }
      ]
    },
    {
      "cell_type": "markdown",
      "metadata": {
        "id": "eNMDEQT7pBOV"
      },
      "source": [
        "### Hyperparameter Tuning"
      ]
    },
    {
      "cell_type": "code",
      "metadata": {
        "id": "Bi8BAbE9pBOV",
        "outputId": "61c73699-408c-4f6e-ecc8-29a00462683f"
      },
      "source": [
        "from sklearn.model_selection import GridSearchCV\n",
        "GBR = GradientBoostingRegressor()\n",
        "parameters = {'learning_rate': [0.03, 0.04, 0.1, 1],\n",
        "              'subsample'    : [1, 0.5, 0.2, 0.1],\n",
        "              'n_estimators' : [1000, 1500, 2000, 2500],\n",
        "              'max_depth'    : [3, 4, 6, 8]\n",
        "              }\n",
        "grid_GBR = GridSearchCV(estimator=GBR, param_grid = parameters, cv = 2, n_jobs=-1)\n",
        "grid_GBR.fit(X_train, y_train)\n",
        "\n",
        "# Results from Grid Search\n",
        "print(\" Results from Grid Search \" )\n",
        "print()\n",
        "print(\"\\n The best estimator across ALL searched params:\\n\",\n",
        "      grid_GBR.best_estimator_)\n",
        "print(\"\\n The best score across ALL searched params:\\n\",\n",
        "      grid_GBR.best_score_)\n",
        "print(\"\\n The best parameters across ALL searched params:\\n\",\n",
        "      grid_GBR.best_params_)"
      ],
      "execution_count": null,
      "outputs": [
        {
          "output_type": "stream",
          "text": [
            "C:\\Users\\abhishekkumar\\Anaconda3\\lib\\site-packages\\sklearn\\model_selection\\_search.py:813: RuntimeWarning: invalid value encountered in subtract\n",
            "  array_stds = np.sqrt(np.average((array -\n",
            "C:\\Users\\abhishekkumar\\Anaconda3\\lib\\site-packages\\sklearn\\model_selection\\_search.py:813: RuntimeWarning: overflow encountered in square\n",
            "  array_stds = np.sqrt(np.average((array -\n"
          ],
          "name": "stderr"
        },
        {
          "output_type": "stream",
          "text": [
            " Results from Grid Search \n",
            "\n",
            "\n",
            " The best estimator across ALL searched params:\n",
            " GradientBoostingRegressor(learning_rate=0.03, max_depth=4, n_estimators=1500,\n",
            "                          subsample=0.5)\n",
            "\n",
            " The best score across ALL searched params:\n",
            " 0.870076975721477\n",
            "\n",
            " The best parameters across ALL searched params:\n",
            " {'learning_rate': 0.03, 'max_depth': 4, 'n_estimators': 1500, 'subsample': 0.5}\n"
          ],
          "name": "stdout"
        }
      ]
    },
    {
      "cell_type": "code",
      "metadata": {
        "id": "VZUdFBwkpBOV",
        "outputId": "039ba4de-1328-474f-a8a1-ca471e96bcab"
      },
      "source": [
        "# Result with Hyperparameter\n",
        "from sklearn.ensemble import GradientBoostingRegressor\n",
        "reg=GradientBoostingRegressor(learning_rate = 0.03, max_depth = 4, n_estimators = 1500, subsample = 0.5)\n",
        "reg.fit(X_train,y_train)\n",
        "\n",
        "predictions= reg.predict(X_test)\n",
        "from sklearn.metrics import mean_absolute_error, mean_squared_error\n",
        "mae_sklearn = mean_absolute_error(y_test, predictions)\n",
        "print('MAE:', mae_sklearn)\n",
        "mse_sklearn = mean_squared_error(y_test, predictions)\n",
        "print('MSE:', mse_sklearn)\n",
        "print('RMSE:', np.sqrt(mse_sklearn))"
      ],
      "execution_count": null,
      "outputs": [
        {
          "output_type": "stream",
          "text": [
            "MAE: 13715.686132173625\n",
            "MSE: 411506597.50084364\n",
            "RMSE: 20285.6253909226\n"
          ],
          "name": "stdout"
        }
      ]
    }
  ]
}